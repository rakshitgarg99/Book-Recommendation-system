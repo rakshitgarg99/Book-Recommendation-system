{
 "cells": [
  {
   "cell_type": "code",
   "execution_count": 1,
   "metadata": {},
   "outputs": [],
   "source": [
    "import requests\n",
    "from bs4 import BeautifulSoup as bs\n",
    "import pandas as pd\n",
    "import time"
   ]
  },
  {
   "cell_type": "code",
   "execution_count": 2,
   "metadata": {},
   "outputs": [],
   "source": [
    "genre = [\"art\", \"biography\", \"fiction\", \"fantasy\", \"history\", \"romance\", \"religion\", \"mystery\", \"sports\", \"travel\"]"
   ]
  },
  {
   "cell_type": "code",
   "execution_count": 3,
   "metadata": {},
   "outputs": [],
   "source": [
    "table = []"
   ]
  },
  {
   "cell_type": "code",
   "execution_count": 4,
   "metadata": {},
   "outputs": [],
   "source": [
    "headers = {'User-Agent': 'Mozilla/5.0'}\n",
    "for i in genre:\n",
    "    for page in range(12):\n",
    "        url = \"https://www.goodreads.com/shelf/show/\"+str(i)+\"?page=\" + str(page+1)\n",
    "        # print(url)\n",
    "        r = requests.get(url)\n",
    "        soup = bs(r.text,\"html.parser\")\n",
    "        # print(soup)\n",
    "        books_list = soup.findAll('div', {'class': 'elementList'})\n",
    "        for j in range(len(books_list)-4):\n",
    "            row = []\n",
    "            title = books_list[j].find('a',{'class':'leftAlignedImage'})['title']\n",
    "            # print(title)\n",
    "        \n",
    "            rating = books_list[j].find('span',{'class':'greyText smallText'}).text\n",
    "            avg_rating = rating[rating.find('avg rating')+11:rating.find('—')-1]\n",
    "        \n",
    "            author = books_list[j].find('a',{'class':'authorName'}).span.text\n",
    "            # print(author)\n",
    "        \n",
    "            img_url = books_list[j].find('a',{'class':'leftAlignedImage'}).img['src']\n",
    "            # print(img_url)\n",
    "        \n",
    "            book_url = books_list[j].find('a',{'class':'bookTitle'})['href']\n",
    "            # print(book_url)\n",
    "            try:\n",
    "                book_res = requests.get(\"https://www.goodreads.com\" + book_url, headers=headers)\n",
    "                book_soup = bs(book_res.text,\"html.parser\")\n",
    "                try:               \n",
    "                    description = book_soup.find(id='description').text.replace('\\n',\"\")[:-8]\n",
    "                    # print(description)                \n",
    "\n",
    "                except:\n",
    "                    description = 'None'\n",
    "            except:\n",
    "                description = 'None'\n",
    "            \n",
    "        \n",
    "        \n",
    "            row.append(description)\n",
    "            row.append(author)\n",
    "            row.append(i)\n",
    "            row.append(img_url)\n",
    "            row.append(avg_rating)\n",
    "            row.append(title)\n",
    "            table.append(row)\n",
    "            if(j%5==0):\n",
    "                time.sleep(4)\n",
    "        if(page%3==0):\n",
    "            time.sleep(6)"
   ]
  },
  {
   "cell_type": "code",
   "execution_count": 5,
   "metadata": {},
   "outputs": [],
   "source": [
    "df = pd.DataFrame(table,columns=['Desc','Author','Genre','Img_url','Rating','Title'])"
   ]
  },
  {
   "cell_type": "code",
   "execution_count": 6,
   "metadata": {},
   "outputs": [],
   "source": [
    "df.to_csv('goodreads.csv')"
   ]
  },
  {
   "cell_type": "code",
   "execution_count": null,
   "metadata": {},
   "outputs": [],
   "source": []
  }
 ],
 "metadata": {
  "interpreter": {
   "hash": "e404b59586357c814bc0d3940e75d6763c00a48753b225b81f7716971b8e1741"
  },
  "kernelspec": {
   "display_name": "Python 3.8.6 64-bit",
   "language": "python",
   "name": "python3"
  },
  "language_info": {
   "codemirror_mode": {
    "name": "ipython",
    "version": 3
   },
   "file_extension": ".py",
   "mimetype": "text/x-python",
   "name": "python",
   "nbconvert_exporter": "python",
   "pygments_lexer": "ipython3",
   "version": "3.8.6"
  },
  "orig_nbformat": 4
 },
 "nbformat": 4,
 "nbformat_minor": 2
}
